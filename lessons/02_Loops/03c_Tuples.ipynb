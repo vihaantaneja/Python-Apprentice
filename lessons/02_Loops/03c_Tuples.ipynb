{
 "cells": [
  {
   "cell_type": "markdown",
   "metadata": {},
   "source": [
    "# Tuples, Lists You Can't Change\n",
    "\n",
    "Tuples are a kind of sequence and collection, like a list, with one really\n",
    "important difference: they can't be changed, they are \"immutable.\"  What's the\n",
    "point of not being able to change it? Well, they are actually very useful, so\n",
    "let's learn about them. \n",
    "\n",
    "You can create a tuple in a similar way to creating a list, but using `()`\n",
    "instead of `[]`\n",
    "\n"
   ]
  },
  {
   "cell_type": "code",
   "execution_count": null,
   "metadata": {},
   "outputs": [],
   "source": [
    "# Tuples and list\n",
    "\n",
    "l = [1, 2, 3, 4, 5] # List\n",
    "\n",
    "print(l)\n",
    "\n",
    "t = (1, 2, 3, 4, 5) # Tuple\n",
    "\n",
    "print(t)"
   ]
  },
  {
   "cell_type": "markdown",
   "metadata": {},
   "source": [
    "One difference from a list is that when creating a tuple, there must be a comma\n",
    "inside the parentheses, so if you have only one item, you have to follow it with\n",
    "a comma, or it won't be a tuple."
   ]
  },
  {
   "cell_type": "code",
   "execution_count": 1,
   "metadata": {},
   "outputs": [
    {
     "name": "stdout",
     "output_type": "stream",
     "text": [
      "l [1] <class 'list'>\n",
      "t (1,) <class 'tuple'>\n",
      "nt 1 <class 'int'>\n"
     ]
    }
   ],
   "source": [
    "l = [1] # List\n",
    "t = (1,) # Tuple\n",
    "nt = (1) # Not a tuple\n",
    "\n",
    "print('l',l,type(l))\n",
    "print('t',t,type(t))\n",
    "print('nt',nt,type(nt))"
   ]
  },
  {
   "cell_type": "markdown",
   "metadata": {},
   "source": [
    "There are a lot of cases where you want to make a sequence that you can iterate\n",
    "over, but you don't need to add or remove items from the collection. Because\n",
    "tuples can't be changed, they can be optimized to be fast and small in ways that\n",
    "lists can not be optimized. \n",
    "\n",
    "You can do a lot of the same things with tuples that you can do with lists, using the\n",
    "same syntax. For instance, indexing and slicing works the same way. \n",
    "\n"
   ]
  },
  {
   "cell_type": "code",
   "execution_count": null,
   "metadata": {},
   "outputs": [],
   "source": [
    "t = (1, 2, 3, 4, 5) \n",
    "\n",
    "print(t[0]) # Accessing elements in a tuple\n",
    "print(t[2:4]) # Slicing a tuple"
   ]
  },
  {
   "cell_type": "code",
   "execution_count": null,
   "metadata": {},
   "outputs": [],
   "source": []
  }
 ],
 "metadata": {
  "kernelspec": {
   "display_name": "Python 3",
   "language": "python",
   "name": "python3"
  },
  "language_info": {
   "codemirror_mode": {
    "name": "ipython",
    "version": 3
   },
   "file_extension": ".py",
   "mimetype": "text/x-python",
   "name": "python",
   "nbconvert_exporter": "python",
   "pygments_lexer": "ipython3",
   "version": "3.12.4"
  }
 },
 "nbformat": 4,
 "nbformat_minor": 2
}
