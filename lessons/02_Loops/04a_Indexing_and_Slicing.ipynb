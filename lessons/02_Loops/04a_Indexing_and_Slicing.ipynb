{
 "cells": [
  {
   "cell_type": "markdown",
   "metadata": {},
   "source": [
    "# Indexing and slicing\n",
    "\n",
    "Because lists and strings are a sequence of things, you can do some interesting\n",
    "things with them: you can get a specific item from the list, or you can get\n",
    "a range of items. \n",
    "\n",
    "# Indexing\n",
    "\n",
    "Indexing is whem your get"
   ]
  },
  {
   "cell_type": "code",
   "execution_count": 1,
   "metadata": {},
   "outputs": [
    {
     "name": "stdout",
     "output_type": "stream",
     "text": [
      "red\n",
      "blue\n",
      "orange\n"
     ]
    }
   ],
   "source": [
    "# Indexing  ( Run Me! )\n",
    "\n",
    "colors = [ 'red', 'blue', 'black', 'orange']    # define a list of colors\n",
    "\n",
    "print(colors[0])        # print the first item\n",
    "print(colors[1])        # print the second item \n",
    "\n",
    "print(colors[-1])       # print the last item. Negative numbers are counted from the end\n"
   ]
  },
  {
   "cell_type": "markdown",
   "metadata": {},
   "source": [
    "# Slicing\n",
    "\n",
    "A \"slice\" is a portion of a list, starting at one list item and ending with another. A slice is\n",
    "defined by numbers in side brackets after a list. There are many forms, but they all follow the \n",
    "pattern of `[start:stop:skip]` where any of those can be left out. \n",
    "\n",
    "Here are some examples of slicing:"
   ]
  },
  {
   "cell_type": "code",
   "execution_count": 2,
   "metadata": {},
   "outputs": [
    {
     "name": "stdout",
     "output_type": "stream",
     "text": [
      "[1:3] ['blue', 'black']\n",
      "[:2] ['red', 'blue']\n",
      "[2:] ['black', 'orange']\n"
     ]
    }
   ],
   "source": [
    "# Slicing lists (Run Me!)\n",
    "\n",
    "colors = [ 'red', 'blue', 'black', 'orange']    # define a list of colors\n",
    "\n",
    "print('[1:3]', colors[1:3])      # print the second to third items, but not including the third item\n",
    "print('[:2]', colors[:2])        # print the first two items. Nothing before the ':' means 'from the start'\n",
    "print('[2:]', colors[2:])        # print the third and subsequent items. Nothing after the ':' means 'to the end'\n"
   ]
  },
  {
   "cell_type": "markdown",
   "metadata": {},
   "source": [
    "So, some of patterns you can use are: \n",
    "\n",
    "| Syntax             | Description                                   |\n",
    "|--------------------|-----------------------------------------------|\n",
    "| `l[start:stop]`    | from `start` to `stop`                        |\n",
    "| `l[start:stop:skip]` | from `start` to `stop`, skipping every `skip` |\n",
    "| `l[start:]`        | from `start` to the last                      |\n",
    "| `l[:end]`          | from the first to `end`                       |\n",
    "| `l[::skip]`        | from the first to the last, skipping by `skip` |\n"
   ]
  },
  {
   "cell_type": "markdown",
   "metadata": {},
   "source": [
    "We can also use negative numbers in slicing, which means \"from the end\"."
   ]
  },
  {
   "cell_type": "code",
   "execution_count": 3,
   "metadata": {},
   "outputs": [
    {
     "name": "stdout",
     "output_type": "stream",
     "text": [
      "[-3:] [8, 9, 10]\n",
      "[:-3] [1, 2, 3, 4, 5, 6, 7]\n",
      "[-6:-3] [5, 6, 7]\n",
      "[2:-2] [3, 4, 5, 6, 7, 8]\n",
      "[-6:8] [5, 6, 7, 8]\n",
      "[-1] 10\n",
      "[-3:] [8, 9, 10]\n"
     ]
    }
   ],
   "source": [
    "# Slicing with negative ( Run me!)\n",
    "\n",
    "nums = [ 1, 2, 3, 4, 5, 6, 7, 8, 9, 10]\n",
    "\n",
    "print('[-3:]', nums[-3:])        # print the last three items\n",
    "print('[:-3]', nums[:-3])        # print all but the last three items\n",
    "print('[-6:-3]', nums[-6:-3])    # print the fourth to sixth items, but not including the sixth item\n",
    "\n",
    "# And we can mix negative and positives\n",
    "\n",
    "print('[2:-2]', nums[2:-2])      # print the third to the third last items, but not including the third last item\n",
    "print('[-6:8]', nums[-6:8])      # print the fourth to the eighth items, but not including the eighth item\n",
    "\n",
    "# However, the most important use of negative indexes is to get the last item,\n",
    "# or the last few items\n",
    "\n",
    "print('[-1]', nums[-1])          # print the last item\n",
    "print('[-3:]', nums[-3:])        # print the last three items\n"
   ]
  },
  {
   "cell_type": "markdown",
   "metadata": {},
   "source": [
    "Skipping can also be positive or negative. A negative skip means to reverse the list."
   ]
  },
  {
   "cell_type": "code",
   "execution_count": null,
   "metadata": {},
   "outputs": [],
   "source": [
    "# Skipping items\n",
    "\n",
    "nums = [ 1, 2, 3, 4, 5, 6, 7, 8, 9, 10]\n",
    "\n",
    "print('[::2]', nums[::2])        # print every second item\n",
    "print('[1::2]', nums[1::2])      # print every second item starting from the second item\n",
    "\n",
    "# This third argument can also be negative, which means to go backwards\n",
    "# This is a common way to reverse a list\n",
    "\n",
    "print('[::-1]', nums[::-1])      # print the list in reverse order. \n",
    "\n"
   ]
  },
  {
   "cell_type": "markdown",
   "metadata": {},
   "source": [
    "The most frequent use of skip is to reverse the list, using:\n",
    "\n",
    "```python \n",
    "l[::-1]\n",
    "```"
   ]
  },
  {
   "cell_type": "markdown",
   "metadata": {},
   "source": []
  }
 ],
 "metadata": {
  "kernelspec": {
   "display_name": "Python 3",
   "language": "python",
   "name": "python3"
  },
  "language_info": {
   "codemirror_mode": {
    "name": "ipython",
    "version": 3
   },
   "file_extension": ".py",
   "mimetype": "text/x-python",
   "name": "python",
   "nbconvert_exporter": "python",
   "pygments_lexer": "ipython3",
   "version": "3.12.4"
  }
 },
 "nbformat": 4,
 "nbformat_minor": 2
}
