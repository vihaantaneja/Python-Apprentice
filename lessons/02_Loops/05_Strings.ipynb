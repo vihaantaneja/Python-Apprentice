{
 "cells": [
  {
   "cell_type": "markdown",
   "metadata": {},
   "source": [
    "# Strings\n",
    "\n",
    "We've already seen strings, so let's take some time to understand them better. Here is a really basic string\n",
    "assignment:\n",
    "\n",
    "```python \n",
    "message = \"Hello World!\"\n",
    "```\n",
    "\n",
    "You can create strings with different kinds of quotes. These are all basically the same, but each has a slightly different purpose: \n",
    "\n",
    "```python \n",
    "\n",
    "message = \"Hello World!\"\n",
    "message = 'Hello World!'\n",
    "message = \"\"\"Hello World!\"\"\"\n",
    "\n",
    "```\n",
    "\n",
    "The reason for single and double quotes is so you can \n",
    "put the other kind of quote inside. \n",
    "\n",
    "\n",
    "```python \n",
    "\n",
    "message = \" You're allowed to put single quotes inside double quotes\"\n",
    "\n",
    "message = ' He said \"You can use double quotes inside single quotes.\" '\n",
    "\n",
    "```\n",
    "\n",
    "\n",
    "You've seen the triple quote form at the top of your assignments, \n",
    "where it gives you the instructions about how to complete the lesson. The \n",
    "really important part of triple quotes is that it can span muliple lines, \n",
    "and you can also have have single and double quotes inside. \n",
    "\n",
    "```python \n",
    "\n",
    "message = \"\"\"\n",
    "\n",
    "“Hope” is the thing with feathers -\n",
    "That perches in the soul -\n",
    "And sings the tune without the words -\n",
    "And never stops - at all -\n",
    "\n",
    "\"\"\"\n",
    "\n",
    "## Escaping\n",
    "\n",
    "There are some special characters that are hard to put into strings; they require a\n",
    "special prefix character, and adding that character is called \"escaping\" or \"quoting\". \n",
    "\n",
    "For instance, you can put a double quote inside of a double quote string, but\n",
    "you have put a slash in front of it. \n",
    "\n",
    "```python \n",
    "\n",
    "message = ' You\\'re allowed to put single quotes inside single quotes, if you escape it '\n",
    "\n",
    "message = \" He said \\\"You can use double quotes inside single quotes, if you escape\\\" \"\n",
    "\n",
    "```\n",
    "\n",
    "Notice the `\\'` and `\\\"` characters in the strings. There are a lot of other characters\n",
    "that you might escape, but there are only two that you will use most of the time:\n",
    "\n",
    "* `\\n` ends a line and starts a new one. \n",
    "* `\\t` is a tab. It move the next character to the next column that is even 4 or 8 characters\n",
    "\n",
    "\n",
    "Here is an example of using `\\n` and `\\t` in a string."
   ]
  },
  {
   "cell_type": "code",
   "execution_count": 1,
   "metadata": {},
   "outputs": [
    {
     "name": "stdout",
     "output_type": "stream",
     "text": [
      "a\tb?\tc!!\t\n",
      "1\t2\t3\t\n",
      "\n"
     ]
    }
   ],
   "source": [
    "# Tabs and Newlines\n",
    "\n",
    "s = \"a\\tb?\\tc!!\\t\\n1\\t2\\t3\\t\\n\"\n",
    "print(s)"
   ]
  },
  {
   "cell_type": "markdown",
   "metadata": {},
   "source": [
    "Notice that the 1,2,3 line up with the a,b?,c!!, even though the strings are\n",
    "different lengths. Using the `\\t` the first time makes the next character always\n",
    "start at column 8, and the second one makes it always start at column 16. You\n",
    "can use this for basic formatting.\n",
    "\n",
    "\n",
    "# Test Yourself\n",
    "\n",
    "Create two strings and print them out. \n",
    "The first string will have multiple line and have a 'Roses are Red' poem. Use triple quotes\n",
    "\n",
    "The second string will use double quotes and have a list of your friends first names and their ages, \n",
    "with their ages lined up in the second column. \n"
   ]
  },
  {
   "cell_type": "code",
   "execution_count": null,
   "metadata": {},
   "outputs": [],
   "source": [
    "# Test Yourself\n",
    "\n",
    "poem = \"\"\"\n",
    "\"\"\"\n",
    "\n",
    "print(poem)\n",
    "\n",
    "friends = \"\"\n",
    "\n",
    "print(friends)\n",
    "\n",
    "# Hint: you will need \\t and \\n in the friends string, but not in the poem.\n"
   ]
  },
  {
   "cell_type": "markdown",
   "metadata": {},
   "source": [
    "# Fancy Formatting\n",
    "\n",
    "Python has several different ways to format a string; we are going to practice\n",
    "the newest, and most imprtant one. These are called 'f strings' and here is what\n",
    "they look like: \n"
   ]
  },
  {
   "cell_type": "code",
   "execution_count": null,
   "metadata": {},
   "outputs": [],
   "source": [
    "# f-strings\n",
    "\n",
    "age = 14\n",
    "name = \"John\"\n",
    "\n",
    "print(f\"{name} is {age} years old.\")\n"
   ]
  },
  {
   "cell_type": "markdown",
   "metadata": {},
   "source": [
    "The important parts of the `f` string is \n",
    "\n",
    "* It starts with 'f'\n",
    "* You can insert variables inside it by surrounding them with curly braces, `{}`\n",
    "\n",
    "Here are some more important things you can do with f-strings. "
   ]
  },
  {
   "cell_type": "code",
   "execution_count": 2,
   "metadata": {},
   "outputs": [
    {
     "ename": "NameError",
     "evalue": "name 'name' is not defined",
     "output_type": "error",
     "traceback": [
      "\u001b[0;31m---------------------------------------------------------------------------\u001b[0m",
      "\u001b[0;31mNameError\u001b[0m                                 Traceback (most recent call last)",
      "Cell \u001b[0;32mIn[2], line 5\u001b[0m\n\u001b[1;32m      1\u001b[0m \u001b[38;5;66;03m# More F-Strings\u001b[39;00m\n\u001b[1;32m      2\u001b[0m \n\u001b[1;32m      3\u001b[0m \u001b[38;5;66;03m# You can put lots of expressions inside the curly braces, not just variable names\u001b[39;00m\n\u001b[0;32m----> 5\u001b[0m \u001b[38;5;28mprint\u001b[39m(\u001b[38;5;124mf\u001b[39m\u001b[38;5;124m\"\u001b[39m\u001b[38;5;132;01m{\u001b[39;00m\u001b[43mname\u001b[49m\u001b[38;5;241m.\u001b[39mupper()\u001b[38;5;132;01m}\u001b[39;00m\u001b[38;5;124m is \u001b[39m\u001b[38;5;132;01m{\u001b[39;00mage\u001b[38;5;132;01m}\u001b[39;00m\u001b[38;5;124m years old. In 5 years, he will be \u001b[39m\u001b[38;5;132;01m{\u001b[39;00mage\u001b[38;5;250m \u001b[39m\u001b[38;5;241m+\u001b[39m\u001b[38;5;250m \u001b[39m\u001b[38;5;241m5\u001b[39m\u001b[38;5;132;01m}\u001b[39;00m\u001b[38;5;124m years old.\u001b[39m\u001b[38;5;124m\"\u001b[39m)\n\u001b[1;32m      7\u001b[0m \u001b[38;5;66;03m# You can add a colon after the variable name to format the output\u001b[39;00m\n\u001b[1;32m      8\u001b[0m \u001b[38;5;66;03m# For instance, to make a number appear with commas as thousands separators, you can write {number:,}\u001b[39;00m\n\u001b[1;32m      9\u001b[0m \u001b[38;5;66;03m# or to make it have only 2 decimal places, you can write {number:.2f}\u001b[39;00m\n\u001b[1;32m     11\u001b[0m number \u001b[38;5;241m=\u001b[39m \u001b[38;5;241m1234567.890123\u001b[39m\n",
      "\u001b[0;31mNameError\u001b[0m: name 'name' is not defined"
     ]
    }
   ],
   "source": [
    "# More F-Strings\n",
    "\n",
    "# You can put lots of expressions inside the curly braces, not just variable names\n",
    "\n",
    "print(f\"{name.upper()} is {age} years old. In 5 years, he will be {age + 5} years old.\")\n",
    "\n",
    "# You can add a colon after the variable name to format the output\n",
    "# For instance, to make a number appear with commas as thousands separators, you can write {number:,}\n",
    "# or to make it have only 2 decimal places, you can write {number:.2f}\n",
    "\n",
    "number = 1234567.890123\n",
    "\n",
    "print(f\"With a seperator: {number:,}\")\n",
    "print(f\"Rounded to 2 places: {number:.2f}\")\n",
    "\n",
    "# You can make a string appear in a certain number of spaces by writing {string:10}\n",
    "# This will make the string appear in a space of 10 characters, padding it with spaces if necessary\n",
    "\n",
    "print(f\"{'Hello':10}{'World':10}!\")\n",
    "\n"
   ]
  },
  {
   "cell_type": "markdown",
   "metadata": {},
   "source": [
    "You can combine f-strings and tripple quotes for a very powerful method of formatting. "
   ]
  },
  {
   "cell_type": "code",
   "execution_count": null,
   "metadata": {},
   "outputs": [],
   "source": [
    "# Run Me\n",
    "\n",
    "name = \"John\"\n",
    "age = 14\n",
    "prize = \"a unicorn\"\n",
    "\n",
    "letter = f\"\"\"\n",
    "Dear {name},\n",
    "\n",
    "Congratulations! You have won {prize} in our prize draw. \n",
    "You are only {age} years old, so you must be very lucky!\n",
    "\n",
    "Yours sincerely,\n",
    "The Prize Draw Team\n",
    "\"\"\"\n",
    "\n",
    "print(letter)\n",
    "\n",
    "\n",
    "\n"
   ]
  },
  {
   "cell_type": "markdown",
   "metadata": {},
   "source": [
    "There is a lot more you can do with f-strings, but this will get you started. \n",
    "\n",
    "## Test Yourself\n",
    "\n",
    "In the loop, print out:\n",
    "\n",
    "* start each line with \"!\"\n",
    "* The line number, formatted to 3 spaces\n",
    "* The string \"equations\" followed by a math equation showing the number times 2\n",
    "* the last number is formatted to 5 spaces\n",
    "\n",
    "For instance, one of the lines should look like\n",
    "\n",
    "```python \n",
    "!  6 equation: 6 * 2 =    12\n",
    "```\n"
   ]
  },
  {
   "cell_type": "code",
   "execution_count": null,
   "metadata": {},
   "outputs": [],
   "source": [
    "# Test Yourself\n",
    "\n",
    "for i in range(1, 9):\n",
    "    ..."
   ]
  },
  {
   "cell_type": "markdown",
   "metadata": {},
   "source": [
    "# Turning Strings to List\n",
    "\n",
    "Let's review how to strings into lists. There are two important ways. \n",
    "\n",
    "First, you can turn it directly into a list with `list()`"
   ]
  },
  {
   "cell_type": "code",
   "execution_count": null,
   "metadata": {},
   "outputs": [],
   "source": [
    "print(list(\"Hello World\"))"
   ]
  },
  {
   "cell_type": "markdown",
   "metadata": {},
   "source": [
    "Second, you can break it up on a character with `split()`:\n"
   ]
  },
  {
   "cell_type": "code",
   "execution_count": null,
   "metadata": {},
   "outputs": [],
   "source": [
    "# Split on spaces\n",
    "m = \"Python is fun to learn\"\n",
    "l = m.split()\n",
    "print(l)"
   ]
  },
  {
   "cell_type": "markdown",
   "metadata": {},
   "source": [
    "The `.split()` method splits on spaces by default, but you can specify a\n",
    "different character to split on by passing it as an argument to the method."
   ]
  },
  {
   "cell_type": "code",
   "execution_count": null,
   "metadata": {},
   "outputs": [],
   "source": [
    "# split on commas\n",
    "\n",
    "m = 'a,b,c,d,e'\n",
    "l = m.split(',')\n",
    "print(l)"
   ]
  },
  {
   "cell_type": "markdown",
   "metadata": {},
   "source": [
    "After you have split a string, you can rejoin it. There is a funny way to do it,\n",
    "which we will have to explain later; for now just use this method."
   ]
  },
  {
   "cell_type": "code",
   "execution_count": null,
   "metadata": {},
   "outputs": [],
   "source": [
    "# Run Me!\n",
    "# Join with spaces\n",
    "l = ['Python', 'is', 'fun', 'to', 'learn']\n",
    "s = ' '.join(l) # Doesn't that look weird?\n",
    "print(s)\n",
    "\n",
    "# Join with commas\n",
    "l = ['a', 'b', 'c', 'd', 'e']\n",
    "s = ','.join(l)\n",
    "print(s)"
   ]
  },
  {
   "cell_type": "markdown",
   "metadata": {},
   "source": [
    "So, if you wanted to change the third word of a sentence, you might do:"
   ]
  },
  {
   "cell_type": "code",
   "execution_count": null,
   "metadata": {},
   "outputs": [],
   "source": [
    "# Run Me!\n",
    "m = \"Python is fun to learn\"\n",
    "l = m.split() # Turn it into a list of words\n",
    "l[2] = 'amazing' # Change the third word\n",
    "s = ' '.join(l) # Join the words back together\n",
    "\n",
    "print(s)"
   ]
  },
  {
   "cell_type": "markdown",
   "metadata": {},
   "source": [
    "If you wanted to add a word in the middle you might do:"
   ]
  },
  {
   "cell_type": "code",
   "execution_count": null,
   "metadata": {},
   "outputs": [],
   "source": [
    "# Run Me!\n",
    "m = \"Python is fun to learn\"\n",
    "l = m.split() # Turn it into a list of words\n",
    "\n",
    "first_half = l[:2] # Get the first two words\n",
    "second_half = l[2:] # Get the rest of the words\n",
    "\n",
    "l = first_half + ['really'] + second_half # Add 'really' in the middle, using + to combine lists\n",
    "\n",
    "s = ' '.join(l) # Join the words back together\n",
    "\n",
    "s\n"
   ]
  },
  {
   "cell_type": "markdown",
   "metadata": {},
   "source": [
    "# Test Yourself\n",
    "\n",
    "Use the strings and lists, along with `+`, `.split()`, slicing and indexing, to assemble and print out phrases.\n",
    "\n",
    "Hints:\n",
    "\n",
    "* You might need to use the string methods `.lower()` or `.capitalize()`\n",
    "* You can extract words using either a slice on a string, or convert the string to a list first. \n",
    "\n",
    "First, here is an example:"
   ]
  },
  {
   "cell_type": "code",
   "execution_count": null,
   "metadata": {},
   "outputs": [],
   "source": [
    "# Example\n",
    "\n",
    "s1 = \"Pythons are constrictors!\"\n",
    "s2 = \"John is funny\"\n",
    "\n",
    "# Print \"Python is fun\" \n",
    "\n",
    "space = s1[7]\n",
    "s = s1[:6] + space + s2[5:-2] + s1[-1]\n",
    "print(s)\n",
    "\n",
    "# or\n",
    "\n",
    "words1 = s1.split()\n",
    "pythons = words1[0]\n",
    "python = pythons[:-1]\n",
    "words2 = s2.split()\n",
    "is_word = words2[1] # 'is' is a reserved word in Python, so we can't use it as a variable name\n",
    "funny = words2[2]\n",
    "fun = funny[:-2]\n",
    "exclaim = s1[-1]\n",
    "\n",
    "print(python  + space + is_word + space + fun + exclaim)\n",
    "\n"
   ]
  },
  {
   "cell_type": "markdown",
   "metadata": {},
   "source": [
    "Now you try it:"
   ]
  },
  {
   "cell_type": "code",
   "execution_count": null,
   "metadata": {},
   "outputs": [],
   "source": [
    "# Test yourself \n",
    "\n",
    "s1 = \"The train in Spain.\"\n",
    "s2 = \"makes passengers complain\"\n",
    "s3 = [\"flowers\", \"grow\", \"again\" ]\n",
    "s4 = \"to\"\n",
    "s5 = \" \" \n",
    "\n",
    "# Print \"The train in Spain makes passengers complain.\"\n",
    "\n",
    "\n",
    "# Print \"The rain in Spain makes flowers grow again\"\n",
    "\n",
    "\n",
    "# Print \"The passengers grow flowers in Spain\n",
    "\n",
    "\n",
    "# Print \"The flowers in Spain train passengers to complain.\"\n"
   ]
  }
 ],
 "metadata": {
  "kernelspec": {
   "display_name": "Python 3",
   "language": "python",
   "name": "python3"
  },
  "language_info": {
   "codemirror_mode": {
    "name": "ipython",
    "version": 3
   },
   "file_extension": ".py",
   "mimetype": "text/x-python",
   "name": "python",
   "nbconvert_exporter": "python",
   "pygments_lexer": "ipython3",
   "version": "3.12.4"
  }
 },
 "nbformat": 4,
 "nbformat_minor": 2
}
