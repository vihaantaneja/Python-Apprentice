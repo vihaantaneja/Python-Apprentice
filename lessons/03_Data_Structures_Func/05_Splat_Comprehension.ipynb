{
 "cells": [
  {
   "cell_type": "markdown",
   "metadata": {},
   "source": [
    "# Tic Tac Toe\n",
    "\n",
    "In the nex project, you will implemement a Tic Tac Toe game, but to write a Tic Tac Toe game, we will need to learn about multi-dimensional\n",
    "arrays. A multidimensional array in Python is really just a list of lists:"
   ]
  },
  {
   "cell_type": "code",
   "execution_count": 2,
   "metadata": {},
   "outputs": [
    {
     "name": "stdout",
     "output_type": "stream",
     "text": [
      "[[1, 2, 3], [4, 5, 6], [7, 8, 9]]\n",
      "1\n",
      "6\n",
      "7\n"
     ]
    }
   ],
   "source": [
    "# A 2 dimensional array is an array of arrays. Here is an example:\n",
    "\n",
    "row1 = [1, 2, 3]\n",
    "row2 = [4, 5, 6]\n",
    "row3 = [7, 8, 9]\n",
    "\n",
    "two_dimensional_array = [\n",
    "    row1, \n",
    "    row2, \n",
    "    row3\n",
    "    ]\n",
    "\n",
    "print(two_dimensional_array)\n",
    "\n",
    "# Or , The more compact usual way: \n",
    "\n",
    "two_dimensional_array = [\n",
    "        [1, 2, 3],\n",
    "        [4, 5, 6],\n",
    "        [7, 8, 9]\n",
    "    ]\n",
    "\n",
    "# Now we can use '[][]' to access the elements of the 2D array.\n",
    "\n",
    "print(two_dimensional_array[0][0]) # 1\n",
    "print(two_dimensional_array[1][2]) # 6\n",
    "print(two_dimensional_array[2][0]) # 7"
   ]
  },
  {
   "cell_type": "markdown",
   "metadata": {},
   "source": [
    "THe `[][]` construct is for indexing in two dimensions. To understand the two\n",
    "dimensional access, think about what the first and second access return. \n",
    "\n",
    "Can you guess what the first index on the array will return? What do you think this will print out?\n",
    "\n",
    "```python \n",
    "\n",
    "print( two_dimensional_array[1] )\n",
    "\n",
    "```"
   ]
  },
  {
   "cell_type": "markdown",
   "metadata": {},
   "source": []
  },
  {
   "cell_type": "code",
   "execution_count": 17,
   "metadata": {},
   "outputs": [
    {
     "ename": "NameError",
     "evalue": "name 'ten_dimensional_array' is not defined",
     "output_type": "error",
     "traceback": [
      "\u001b[0;31m---------------------------------------------------------------------------\u001b[0m",
      "\u001b[0;31mNameError\u001b[0m                                 Traceback (most recent call last)",
      "Cell \u001b[0;32mIn[17], line 2\u001b[0m\n\u001b[1;32m      1\u001b[0m \u001b[38;5;66;03m# Try it! \u001b[39;00m\n\u001b[0;32m----> 2\u001b[0m \u001b[38;5;28mprint\u001b[39m( \u001b[43mten_dimensional_array\u001b[49m[\u001b[38;5;241m1\u001b[39m] ) \n",
      "\u001b[0;31mNameError\u001b[0m: name 'ten_dimensional_array' is not defined"
     ]
    }
   ],
   "source": [
    "# Try it! \n",
    "print( ten_dimensional_array[1] ) \n"
   ]
  },
  {
   "cell_type": "markdown",
   "metadata": {},
   "source": [
    "When you have a multi-dimensional array, the first index operation returns a list, which is the row. Then, the second index operations works on the row to return a column, so `[][]` expands to :\n",
    "\n",
    "```python\n",
    "l = [ [1, 2, 3],  [4, 5, 6], [7, 8, 9]  ]\n",
    "row_num = 2\n",
    "col_num = 1\n",
    "\n",
    "# The typical way:\n",
    "v = l[row_num][col_num]\n",
    "\n",
    "# Expand it out\n",
    "row = l[row_num]\n",
    "v = row[col_num]\n",
    "\n",
    "```"
   ]
  },
  {
   "cell_type": "markdown",
   "metadata": {},
   "source": [
    "## Who Won ?\n",
    "\n",
    "When implementing Tic Tac Toe the important thing we have to do is figure out who won. Who is the winner? It's the player who has 3 of the players tokens in any tow, column or diagonal. How do we get a row? Well, that's easy, it is just a single index on the board:\n",
    "\n",
    "```python \n",
    "board = [\n",
    "        [1, 2, 3],\n",
    "        [4, 5, 6],\n",
    "        [7, 8, 9]\n",
    "    ]\n",
    "\n",
    "first_row = board[0]\n",
    "\n",
    "```\n",
    "\n",
    "That was easy .. but how do we get the first column, with all three values? You\n",
    "can probably come up with a manual way, but we'll show you the most Pythonic\n",
    "way: you transpose the board and take a row. Transposing a matrix means swapping\n",
    "rows an columns, so if you transpose, accessing a row will actually get you a\n",
    "column,  and in Python we can do this with `zip()`\n"
   ]
  },
  {
   "cell_type": "code",
   "execution_count": 18,
   "metadata": {},
   "outputs": [
    {
     "name": "stdout",
     "output_type": "stream",
     "text": [
      "[1, 2, 3]\n",
      "[4, 5, 6]\n",
      "[7, 8, 9]\n",
      "\n",
      "(1, 4, 7)\n",
      "(2, 5, 8)\n",
      "(3, 6, 9)\n"
     ]
    }
   ],
   "source": [
    "def pretty_print_2d(a):\n",
    "    \"\" \"Prints a 2D array in a pretty way\" \"\"\n",
    "    for row in a:\n",
    "        print(row)\n",
    "\n",
    "board = [\n",
    "        [1, 2, 3],\n",
    "        [4, 5, 6],\n",
    "        [7, 8, 9]\n",
    "    ]\n",
    "\n",
    "pretty_print_2d(board)print()\n",
    "\n",
    "transposed = list(zip(*board)) # <--- HERE IS THE MAGIC\n",
    "pretty_print_2d(transposed)\n"
   ]
  },
  {
   "cell_type": "markdown",
   "metadata": {},
   "source": [
    "See, the zip operation turned rows into columns, and columns into rows: in the\n",
    "original, \"[1,2,3]\" is across the top in in the bottom \"(1,2,3)\" is down the\n",
    "side. But ... one difference, the top has \"[]\", so it is an array of lists, but\n",
    "the bottom has '()', so it is an array of tuples. We'll fix that later, for now\n",
    "let's learn how `zip()` transposes. \n",
    "\n",
    "Here is the line of code: \n",
    "\n",
    "```python \n",
    "list(zip(*board))\n",
    "```\n",
    "\n",
    "The first thing to talk about is the `*`. In this usage, it is known as the\n",
    "'splat operator', and it is unpacking `board` into the argument list of the zip\n",
    "function. The `board`  variable is iterable, and the splat takes each item of \n",
    "`board` and makes a seperate argument for it. So, this line of code is equavalent to:\n",
    "\n",
    "```python \n",
    "list(zip(board[0],board[1],board[2])))\n",
    "```\n",
    "\n",
    "And that is equivalent to:\n",
    "\n",
    "```python \n",
    "list(zip([1, 2, 3],[4, 5, 6],[7, 8, 9])))\n",
    "```\n",
    "\n",
    "Now what does `zip()` do? It takes all of the first items of it's aguments, then all of the second, then all of the third, etc. \n",
    "Let's try that: \n"
   ]
  },
  {
   "cell_type": "code",
   "execution_count": 5,
   "metadata": {},
   "outputs": [
    {
     "name": "stdout",
     "output_type": "stream",
     "text": [
      "(1, 4, 7)\n",
      "(2, 5, 8)\n",
      "(3, 6, 9)\n"
     ]
    }
   ],
   "source": [
    "for e in zip([1, 2, 3],[4, 5, 6],[7, 8, 9]):\n",
    "    print(e)"
   ]
  },
  {
   "cell_type": "markdown",
   "metadata": {},
   "source": [
    " See, the first tuple we get is the first item of each of the lists in the `zip()` arguments, the second item is the second, etc. \n"
   ]
  },
  {
   "cell_type": "markdown",
   "metadata": {},
   "source": [
    "If that is hard to see, lets color the numbers: \n",
    "\n",
    "code:\n",
    "<pre>\n",
    "for e in zip(<span style=\"color:red\">[1, 2, 3]</span>, <span style=\"color:blue\">[4, 5, 6]</span>,<span style=\"color:green\">[7, 8, 9]</span>):\n",
    "    print(e)\n",
    "</pre>\n",
    "\n",
    "output:\n",
    "<pre>\n",
    "(<span style=\"color:red\">1</span>, <span style=\"color:blue\">4</span>, <span style=\"color:green\">7</span>)\n",
    "(<span style=\"color:red\">2</span>, <span style=\"color:blue\">5</span>, <span style=\"color:green\">8</span>)\n",
    "(<span style=\"color:red\">3</span>, <span style=\"color:blue\">6</span>, <span style=\"color:green\">9</span>)\n",
    "</pre>"
   ]
  },
  {
   "cell_type": "markdown",
   "metadata": {},
   "source": [
    "\n",
    "But, we don't want a tuple of tuples, we want a list of lists, so we have to do some converstion. \n"
   ]
  },
  {
   "cell_type": "code",
   "execution_count": 6,
   "metadata": {},
   "outputs": [
    {
     "name": "stdout",
     "output_type": "stream",
     "text": [
      "[1, 4, 7]\n",
      "[2, 5, 8]\n",
      "[3, 6, 9]\n"
     ]
    }
   ],
   "source": [
    "# First transpose:\n",
    "t = zip(*board)\n",
    "\n",
    "l = []\n",
    "# convert each row from tuple to list\n",
    "for e in t:\n",
    "    l.append(list(e))\n",
    "\n",
    "pretty_print_2d(l)\n"
   ]
  },
  {
   "cell_type": "markdown",
   "metadata": {},
   "source": [
    "## Introducing Comprehensions\n",
    "\n",
    "That conversion code is kinda ugly, but we can make it much prettier and more Pythonic with a list comprehension. Here is what that looks like: \n"
   ]
  },
  {
   "cell_type": "code",
   "execution_count": 7,
   "metadata": {},
   "outputs": [
    {
     "name": "stdout",
     "output_type": "stream",
     "text": [
      "[1, 4, 7]\n",
      "[2, 5, 8]\n",
      "[3, 6, 9]\n"
     ]
    }
   ],
   "source": [
    "l  = [list(e) for e in zip(*board)]\n",
    "pretty_print_2d(l)"
   ]
  },
  {
   "cell_type": "markdown",
   "metadata": {},
   "source": [
    "You certainly recognize \"[]\" for making a list, but what's the code inside???? The basic syntax here is just a for loop, with an extra expression: \n",
    "\n",
    "```python \n",
    "[ <expression> for item in list ]\n",
    "```\n",
    "\n",
    "We know what the `for item in list` is, so we are really just adding the\n",
    "`<expression>` part, and all that is doing is being added to a list. So these\n",
    "two bits of code are the same: \n",
    "\n"
   ]
  },
  {
   "cell_type": "code",
   "execution_count": 8,
   "metadata": {},
   "outputs": [
    {
     "name": "stdout",
     "output_type": "stream",
     "text": [
      "[1, 4, 9, 16, 25]\n",
      "[1, 4, 9, 16, 25]\n"
     ]
    }
   ],
   "source": [
    "# The old way to square every number:\n",
    "\n",
    "nums = [1, 2, 3, 4, 5]\n",
    "\n",
    "squared = []\n",
    "for n in nums:\n",
    "    expression = n * n\n",
    "    squared.append(expression)\n",
    "\n",
    "print(squared)\n",
    "\n",
    "# The comprehension way:\n",
    "\n",
    "squared = [n * n for n in nums]\n",
    "print(squared)\n",
    "\n"
   ]
  },
  {
   "cell_type": "markdown",
   "metadata": {},
   "source": [
    "So, the comprehension is really just a nicer syntax for a certain kind of `for` loop that appends items to a list. Thre is a lot more to comprehensions, of course, but this is enough to get started. "
   ]
  },
  {
   "cell_type": "markdown",
   "metadata": {},
   "source": [
    "## Yes, but Who Won?\n",
    "\n",
    "So now we know an easy way to find the columns to check who won: you write a\n",
    "function to figure out who won by row, then you use that function first to chech\n",
    "all of the rows, then transpose the board to check all of the columns. \n",
    "\n",
    "But, we still have to check the two diagonals. Let's look at the coordinates of the diagonals.\n",
    "if your board is:\n",
    "\n",
    "```\n",
    "[1, 4, 7]\n",
    "[2, 5, 8]\n",
    "[3, 6, 9]\n",
    "```\n",
    "\n",
    "Then the two diagonals are: `[1,5,9]', and '[7,5,1]'. Let's try to use a comprehension to \n",
    "find the diagonals: \n"
   ]
  },
  {
   "cell_type": "code",
   "execution_count": 9,
   "metadata": {},
   "outputs": [],
   "source": [
    "# Text Yourself\n",
    "# In the comprehensions below, replace the ...\n",
    "# with code that will produce the expected output.\n",
    "\n",
    "board = [\n",
    "        [1, 2, 3],\n",
    "        [4, 5, 6],\n",
    "        [7, 8, 9]\n",
    "    ]\n",
    "\n",
    "# Uncomment below and replace the ... with code that will produce the expected output.\n",
    "#d1 = [ board[...][...] for i in range(3) ]\n",
    "#assert d1 == [1, 5, 9]\n",
    "\n",
    "#d2 = [ board[...][...] for i in range(3) ]\n",
    "#assert d2 == [3, 5, 7]\n",
    "\n"
   ]
  },
  {
   "cell_type": "markdown",
   "metadata": {},
   "source": [
    "Hint: three of the `...`  are all replaced by the same thing. It will help if\n",
    "you list out the coordinates of the diagonals, which are (0,0), (1,1) .... If\n",
    "you can't get the right comprehension, you can also construct a new 3 item\n",
    "list from getting each dialgonal cell from the board with 2d indexing, \n",
    "like ` l = [ board[0][0],board[1][1], ...]`\n"
   ]
  },
  {
   "cell_type": "markdown",
   "metadata": {},
   "source": [
    "Ok, now we have explained: \n",
    "\n",
    "* How to get each row as a list\n",
    "* How top get each column as a list\n",
    "* How to get both diagonals. \n",
    "\n",
    "Now let's look as some Pythonic ways to figure out who won. What things are true\n",
    "about a row where 'X' won? Let's look as some example code that will maybe given you some ideas. \n"
   ]
  },
  {
   "cell_type": "code",
   "execution_count": 10,
   "metadata": {},
   "outputs": [
    {
     "name": "stdout",
     "output_type": "stream",
     "text": [
      "\n",
      "1 ===\n",
      "True\n",
      "False\n",
      "False\n",
      "\n",
      "2 ===\n",
      "{'x'}\n",
      "{'o'}\n",
      "{'o', 'x'}\n",
      "{'o', 'x'}\n",
      "\n",
      "3 ===\n",
      "1\n",
      "1\n",
      "2\n",
      "2\n",
      "\n",
      "4 ===\n",
      "True\n",
      "True\n",
      "False\n",
      "False\n"
     ]
    }
   ],
   "source": [
    "x_won = ['x','x','x']\n",
    "o_won = ['o','o','o']\n",
    "r1 =    ['x','x','o']\n",
    "r2 =    ['x','o','o'] \n",
    "r3 =    ['x','o','x']   \n",
    "r4 =    ['o','x','x']   \n",
    "\n",
    "# The all() function returns True if all elements of the iterable are true.\n",
    "print('\\n1 ===')\n",
    "print( all([e == 'x' for e in x_won]) ) \n",
    "print( all([e == 'o' for e in x_won]) ) \n",
    "print( all([e == 'x' for e in r1]) ) \n",
    "\n",
    "print('\\n2 ===')\n",
    "print(set(x_won))\n",
    "print(set(o_won))\n",
    "print(set(r1))\n",
    "print(set(r2))\n",
    "\n",
    "print('\\n3 ===')\n",
    "print(len(set(x_won)))\n",
    "print(len(set(o_won)))\n",
    "print(len(set(r1)))\n",
    "print(len(set(r2)))\n",
    "\n",
    "print('\\n4 ===')\n",
    "print(set(x_won) == {'x'})\n",
    "print(set(o_won) == {'o'})\n",
    "print(set(r1) == {'x'})\n",
    "print(set(r2) == {'x'})\n"
   ]
  },
  {
   "cell_type": "markdown",
   "metadata": {},
   "source": [
    "Does that give you any ideas? Read the code carefully and then select a way to figure out which play won for a row. \n",
    "\n",
    "# Test Yourself\n",
    "\n",
    "Write the functions described below, then test your functions on the provided test code. \n",
    "\n",
    "Hint: The logic value of `None` is `False`, but the logic value of 'x' and 'o' are both `True`\n"
   ]
  },
  {
   "cell_type": "code",
   "execution_count": 11,
   "metadata": {},
   "outputs": [],
   "source": [
    "x_wins_boards = [\n",
    "    # x wins in row 1\n",
    "    [\n",
    "        ['o','' ,'o'],\n",
    "        ['x','x','x'],\n",
    "        ['o','' ,''],\n",
    "    ],\n",
    "    # x wins in col 2\n",
    "    [\n",
    "        ['o','' ,'x'],\n",
    "        ['' ,'o','x'],\n",
    "        ['o','' ,'x'],\n",
    "    ],\n",
    "    # x wins in the first diagonal\n",
    "    [\n",
    "        ['x','' ,'o'],\n",
    "        ['' ,'x','o'],\n",
    "        ['o','' ,'x'],\n",
    "    ]\n",
    "]\n",
    "\n",
    "o_wins_boards = [\n",
    "    # o wins in row 0\n",
    "    [\n",
    "        ['o','o','o'],\n",
    "        ['' ,'x',''],\n",
    "        ['x','' ,'x'],\n",
    "    ],\n",
    "    # o wins in col 1\n",
    "    [\n",
    "        ['x','o','x'],\n",
    "        ['' ,'o',''],\n",
    "        ['' ,'o','x'],\n",
    "    ],\n",
    "    # o wins in the second diagonal\n",
    "    [\n",
    "        ['x','' ,'o'],\n",
    "        ['' ,'o',''],\n",
    "        ['o','x','x'],\n",
    "    ]\n",
    "]\n",
    "\n",
    "no_winner_boards = [\n",
    "    # No winner example 1\n",
    "    [\n",
    "        ['x','o','x'],\n",
    "        ['o','x','o'],\n",
    "        ['o','x','o'],\n",
    "    ],\n",
    "    # No winner example 2\n",
    "    [\n",
    "        ['x','o','x'],\n",
    "        ['x','o','o'],\n",
    "        ['o','x','x'],\n",
    "    ],\n",
    "    # No winner example 3\n",
    "    [\n",
    "        ['x','o','x'],\n",
    "        ['x','x','o'],\n",
    "        ['o','x','o'],\n",
    "    ]\n",
    "]\n",
    "\n",
    "\n",
    "# First, write a function to check if a player has won on a row, column, or diagonal.\n",
    "# Ths function takes a 3 element iterable and returns the winner. \n",
    "\n",
    "\n",
    "def check_row(l):\n",
    "    \"\"\"Check if a player won on a row\n",
    "    Args:\n",
    "        l: a 3 element iterable\n",
    "        \n",
    "    Returns:\n",
    "        The winner's token ( x or o ) if there is one, otherwise None\n",
    "        \"\"\"\n",
    "    \n",
    "    return None\n",
    "\n",
    "\n",
    "# Now, write a function that takes a 2D array and checks if there is a winner.\n",
    "# This function should call the check_winner function for each row, column, and diagonal.\n",
    "\n",
    "def check_board(board):\n",
    "    \"\"\"Check if a player has won on a board\n",
    "    Args:\n",
    "        board: a 3x3 2D array\n",
    "    \n",
    "    Returns:\n",
    "        The winner's token ( x or o ) if there is one, otherwise None\n",
    "    \"\"\"\n",
    "\n",
    "    return None\n",
    "\n",
    "\n",
    "# Next, write some test code to test your functions. You should start by testing rows, like this\n",
    "#  \n",
    "\n",
    "# board = x_wins_boards[0]\n",
    "# check_row( board[0]) # Should be None\n",
    "# check_row( board[1]) # Should be 'x'\n",
    "#\n",
    "# Test the rows to determine if your check_rows() function works. \n",
    "# \n",
    "# Then, do the same checks with check_board()\n",
    "#\n",
    "# Finally,write a loop to check that the winner of all of the x_wins_boards is 'x', \n",
    "# the winner of all of the o_wins_boards is 'o', and the winner of all of the no_winner_boards is None.\n",
    "# You might use a comprehension, like [ check_board(board) for board in x_wins_boards ] \n",
    "\n"
   ]
  },
  {
   "cell_type": "code",
   "execution_count": 12,
   "metadata": {},
   "outputs": [
    {
     "ename": "AssertionError",
     "evalue": "",
     "output_type": "error",
     "traceback": [
      "\u001b[0;31m---------------------------------------------------------------------------\u001b[0m",
      "\u001b[0;31mAssertionError\u001b[0m                            Traceback (most recent call last)",
      "Cell \u001b[0;32mIn[12], line 4\u001b[0m\n\u001b[1;32m      1\u001b[0m \u001b[38;5;66;03m# Final Test\u001b[39;00m\n\u001b[1;32m      2\u001b[0m \u001b[38;5;66;03m# If all of your functions are working this code should pass:\u001b[39;00m\n\u001b[0;32m----> 4\u001b[0m \u001b[38;5;28;01massert\u001b[39;00m \u001b[38;5;28mall\u001b[39m([ check_board(board) \u001b[38;5;241m==\u001b[39m \u001b[38;5;124m'\u001b[39m\u001b[38;5;124mx\u001b[39m\u001b[38;5;124m'\u001b[39m \u001b[38;5;28;01mfor\u001b[39;00m board \u001b[38;5;129;01min\u001b[39;00m x_wins_boards ] )\n\u001b[1;32m      5\u001b[0m \u001b[38;5;28;01massert\u001b[39;00m \u001b[38;5;28mall\u001b[39m([ check_board(board) \u001b[38;5;241m==\u001b[39m \u001b[38;5;124m'\u001b[39m\u001b[38;5;124mo\u001b[39m\u001b[38;5;124m'\u001b[39m \u001b[38;5;28;01mfor\u001b[39;00m board \u001b[38;5;129;01min\u001b[39;00m o_wins_boards ] )\n\u001b[1;32m      6\u001b[0m \u001b[38;5;28;01massert\u001b[39;00m \u001b[38;5;28mall\u001b[39m([ check_board(board) \u001b[38;5;129;01mis\u001b[39;00m \u001b[38;5;28;01mNone\u001b[39;00m \u001b[38;5;28;01mfor\u001b[39;00m board \u001b[38;5;129;01min\u001b[39;00m no_winner_boards ] )\n",
      "\u001b[0;31mAssertionError\u001b[0m: "
     ]
    }
   ],
   "source": [
    "# Final Test\n",
    "# If all of your functions are working this code should pass:\n",
    "\n",
    "assert all([ check_board(board) == 'x' for board in x_wins_boards ] )\n",
    "assert all([ check_board(board) == 'o' for board in o_wins_boards ] )\n",
    "assert all([ check_board(board) is None for board in no_winner_boards ] )"
   ]
  },
  {
   "cell_type": "markdown",
   "metadata": {},
   "source": [
    "## Make It Better!\n",
    "\n",
    "Once you get the `check_board(board)` function working, lets try to make it better. See if you can run just one loop through all of the rows, columns and diagonal and have just one return. Here is some code that will give you a hint: \n"
   ]
  },
  {
   "cell_type": "code",
   "execution_count": null,
   "metadata": {},
   "outputs": [],
   "source": [
    "l = [\n",
    "        [1, 2, 3],\n",
    "        [4, 5, 6],\n",
    "        [7, 8, 9]\n",
    "    ]\n",
    "\n",
    "def transpose(a):\n",
    "    return list(zip(*a))\n",
    "\n",
    "m = l[:] # Copy the whole list \n",
    "m.extend(transpose(l)) # Add all of the items from transpose to m, a bit like m += transpose(l)\n",
    "\n",
    "for e in m:\n",
    "    print(e)"
   ]
  },
  {
   "cell_type": "markdown",
   "metadata": {},
   "source": [
    "You've done a lot of work! So it is definitely time to [check in your code.](https://curriculum.jointheleague.org/howto/checkin_restart.html)\n"
   ]
  }
 ],
 "metadata": {
  "kernelspec": {
   "display_name": ".venv",
   "language": "python",
   "name": "python3"
  },
  "language_info": {
   "codemirror_mode": {
    "name": "ipython",
    "version": 3
   },
   "file_extension": ".py",
   "mimetype": "text/x-python",
   "name": "python",
   "nbconvert_exporter": "python",
   "pygments_lexer": "ipython3",
   "version": "3.12.4"
  }
 },
 "nbformat": 4,
 "nbformat_minor": 2
}
